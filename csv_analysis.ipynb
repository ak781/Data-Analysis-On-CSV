{
 "cells": [
  {
   "cell_type": "markdown",
   "id": "dc235405",
   "metadata": {},
   "source": [
    "### Step 1: Load the CSV File\n",
    "\n",
    "First, I’m importing the pandas and matplotlib libraries. Then I’ve loaded the `sales.csv` file into a DataFrame. Just printing the first 5 rows to get an initial idea of what the dataset looks like.\n"
   ]
  },
  {
   "cell_type": "code",
   "execution_count": null,
   "id": "374dac1b",
   "metadata": {},
   "outputs": [
    {
     "name": "stdout",
     "output_type": "stream",
     "text": [
      "First 5 rows of the dataset:\n"
     ]
    },
    {
     "data": {
      "text/html": [
       "<div>\n",
       "<style scoped>\n",
       "    .dataframe tbody tr th:only-of-type {\n",
       "        vertical-align: middle;\n",
       "    }\n",
       "\n",
       "    .dataframe tbody tr th {\n",
       "        vertical-align: top;\n",
       "    }\n",
       "\n",
       "    .dataframe thead th {\n",
       "        text-align: right;\n",
       "    }\n",
       "</style>\n",
       "<table border=\"1\" class=\"dataframe\">\n",
       "  <thead>\n",
       "    <tr style=\"text-align: right;\">\n",
       "      <th></th>\n",
       "      <th>Date</th>\n",
       "      <th>Product</th>\n",
       "      <th>Region</th>\n",
       "      <th>Sales</th>\n",
       "    </tr>\n",
       "  </thead>\n",
       "  <tbody>\n",
       "    <tr>\n",
       "      <th>0</th>\n",
       "      <td>2025-01-01</td>\n",
       "      <td>Keyboard</td>\n",
       "      <td>North</td>\n",
       "      <td>1200</td>\n",
       "    </tr>\n",
       "    <tr>\n",
       "      <th>1</th>\n",
       "      <td>2025-01-01</td>\n",
       "      <td>Mouse</td>\n",
       "      <td>South</td>\n",
       "      <td>800</td>\n",
       "    </tr>\n",
       "    <tr>\n",
       "      <th>2</th>\n",
       "      <td>2025-01-02</td>\n",
       "      <td>Monitor</td>\n",
       "      <td>North</td>\n",
       "      <td>5400</td>\n",
       "    </tr>\n",
       "    <tr>\n",
       "      <th>3</th>\n",
       "      <td>2025-01-02</td>\n",
       "      <td>Keyboard</td>\n",
       "      <td>East</td>\n",
       "      <td>1500</td>\n",
       "    </tr>\n",
       "    <tr>\n",
       "      <th>4</th>\n",
       "      <td>2025-01-03</td>\n",
       "      <td>Mouse</td>\n",
       "      <td>West</td>\n",
       "      <td>950</td>\n",
       "    </tr>\n",
       "  </tbody>\n",
       "</table>\n",
       "</div>"
      ],
      "text/plain": [
       "         Date   Product Region  Sales\n",
       "0  2025-01-01  Keyboard  North   1200\n",
       "1  2025-01-01     Mouse  South    800\n",
       "2  2025-01-02   Monitor  North   5400\n",
       "3  2025-01-02  Keyboard   East   1500\n",
       "4  2025-01-03     Mouse   West    950"
      ]
     },
     "execution_count": 2,
     "metadata": {},
     "output_type": "execute_result"
    }
   ],
   "source": [
    "\n",
    "import pandas as pd\n",
    "import matplotlib.pyplot as plt\n",
    "\n",
    "df = pd.read_csv('sales.csv')\n",
    "\n",
    "#Printing the first 5 rows\n",
    "print(\"First 5 rows of the dataset:\")\n",
    "df.head()\n"
   ]
  },
  {
   "cell_type": "markdown",
   "id": "c30ae6d1",
   "metadata": {},
   "source": [
    "### Step 2: Dataset Overview\n",
    "\n",
    "Before diving into analysis, I wanted to check some basic info about the dataset.  \n",
    "Used `df.info()` to see the column types and if there are any missing values.  \n",
    "Also added `describe()` to get summary stats like mean, min, max, etc. for the numeric columns.\n"
   ]
  },
  {
   "cell_type": "code",
   "execution_count": null,
   "id": "38a8231e",
   "metadata": {},
   "outputs": [
    {
     "name": "stdout",
     "output_type": "stream",
     "text": [
      "Dataset Info:\n",
      "<class 'pandas.core.frame.DataFrame'>\n",
      "RangeIndex: 10 entries, 0 to 9\n",
      "Data columns (total 4 columns):\n",
      " #   Column   Non-Null Count  Dtype \n",
      "---  ------   --------------  ----- \n",
      " 0   Date     10 non-null     object\n",
      " 1   Product  10 non-null     object\n",
      " 2   Region   10 non-null     object\n",
      " 3   Sales    10 non-null     int64 \n",
      "dtypes: int64(1), object(3)\n",
      "memory usage: 452.0+ bytes\n",
      "\n",
      "Summary Statistics:\n"
     ]
    },
    {
     "data": {
      "text/html": [
       "<div>\n",
       "<style scoped>\n",
       "    .dataframe tbody tr th:only-of-type {\n",
       "        vertical-align: middle;\n",
       "    }\n",
       "\n",
       "    .dataframe tbody tr th {\n",
       "        vertical-align: top;\n",
       "    }\n",
       "\n",
       "    .dataframe thead th {\n",
       "        text-align: right;\n",
       "    }\n",
       "</style>\n",
       "<table border=\"1\" class=\"dataframe\">\n",
       "  <thead>\n",
       "    <tr style=\"text-align: right;\">\n",
       "      <th></th>\n",
       "      <th>Sales</th>\n",
       "    </tr>\n",
       "  </thead>\n",
       "  <tbody>\n",
       "    <tr>\n",
       "      <th>count</th>\n",
       "      <td>10.000000</td>\n",
       "    </tr>\n",
       "    <tr>\n",
       "      <th>mean</th>\n",
       "      <td>2438.000000</td>\n",
       "    </tr>\n",
       "    <tr>\n",
       "      <th>std</th>\n",
       "      <td>2170.636363</td>\n",
       "    </tr>\n",
       "    <tr>\n",
       "      <th>min</th>\n",
       "      <td>750.000000</td>\n",
       "    </tr>\n",
       "    <tr>\n",
       "      <th>25%</th>\n",
       "      <td>837.500000</td>\n",
       "    </tr>\n",
       "    <tr>\n",
       "      <th>50%</th>\n",
       "      <td>1350.000000</td>\n",
       "    </tr>\n",
       "    <tr>\n",
       "      <th>75%</th>\n",
       "      <td>4350.000000</td>\n",
       "    </tr>\n",
       "    <tr>\n",
       "      <th>max</th>\n",
       "      <td>6000.000000</td>\n",
       "    </tr>\n",
       "  </tbody>\n",
       "</table>\n",
       "</div>"
      ],
      "text/plain": [
       "             Sales\n",
       "count    10.000000\n",
       "mean   2438.000000\n",
       "std    2170.636363\n",
       "min     750.000000\n",
       "25%     837.500000\n",
       "50%    1350.000000\n",
       "75%    4350.000000\n",
       "max    6000.000000"
      ]
     },
     "execution_count": 3,
     "metadata": {},
     "output_type": "execute_result"
    }
   ],
   "source": [
    "# Basic information about the dataset\n",
    "print(\"Dataset Info:\")\n",
    "df.info()\n",
    "\n",
    "print(\"\\nSummary Statistics:\")\n",
    "df.describe()\n"
   ]
  },
  {
   "cell_type": "markdown",
   "id": "54227d42",
   "metadata": {},
   "source": [
    "### Step 3: Grouping Sales by Product\n",
    "\n",
    "Now I want to analyze how each product is performing overall.  \n",
    "I'm using `groupby()` on the `Product` column and summing the `Sales` values to get the total sales for each product.  \n",
    "This should give a clear idea of which product brings in the most revenue.\n"
   ]
  },
  {
   "cell_type": "code",
   "execution_count": null,
   "id": "43a62a3a",
   "metadata": {},
   "outputs": [
    {
     "name": "stdout",
     "output_type": "stream",
     "text": [
      "Total sales by product:\n",
      "Product\n",
      "Keyboard     4500\n",
      "Monitor     16600\n",
      "Mouse        3280\n",
      "Name: Sales, dtype: int64\n"
     ]
    }
   ],
   "source": [
    "# Grouping and analyzing data\n",
    "# Total sales by product\n",
    "grouped_data = df.groupby('Product')['Sales'].sum()\n",
    "\n",
    "# Display result\n",
    "print(\"Total sales by product:\")\n",
    "print(grouped_data)\n"
   ]
  },
  {
   "cell_type": "markdown",
   "id": "ba7518af",
   "metadata": {},
   "source": [
    "### Step 4: Visualizing the Sales Data\n",
    "\n",
    "To make the grouped sales data easier to understand, I plotted it using a bar chart.  \n",
    "This helps quickly compare the total sales of each product visually.  \n",
    "I’ve also labeled the axes and added a grid to keep the chart clean and readable.\n"
   ]
  },
  {
   "cell_type": "code",
   "execution_count": null,
   "id": "7b6140bd",
   "metadata": {},
   "outputs": [
    {
     "data": {
      "image/png": "[encoded data removed]",
      "text/plain": [
       "<Figure size 1000x600 with 1 Axes>"
      ]
     },
     "metadata": {},
     "output_type": "display_data"
    }
   ],
   "source": [
    "# Plotting the grouped data\n",
    "grouped_data.plot(kind='bar', title='Total Sales by Product', figsize=(10,6), color='red')\n",
    "plt.xlabel('Product')\n",
    "plt.ylabel('Total Sales')\n",
    "plt.grid(True)\n",
    "plt.tight_layout()\n",
    "plt.show()\n"
   ]
  }
 ],
 "metadata": {
  "kernelspec": {
   "display_name": "Python 3",
   "language": "python",
   "name": "python3"
  },
  "language_info": {
   "codemirror_mode": {
    "name": "ipython",
    "version": 3
   },
   "file_extension": ".py",
   "mimetype": "text/x-python",
   "name": "python",
   "nbconvert_exporter": "python",
   "pygments_lexer": "ipython3",
   "version": "3.13.2"
  }
 },
 "nbformat": 4,
 "nbformat_minor": 5
}
